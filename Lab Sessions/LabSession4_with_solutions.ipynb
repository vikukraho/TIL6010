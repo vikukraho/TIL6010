{
 "cells": [
  {
   "cell_type": "markdown",
   "source": [
    "# Fibonacci\n",
    "\n",
    "Write a function to get the [Fibonacci](https://en.wikipedia.org/wiki/Fibonacci_number) series in which all numbers are smaller or equal to a given number.  \n",
    "E.g: Given the upper bound of 10, the function should return [0, 1, 1, 2, 3, 5, 8]"
   ],
   "metadata": {}
  },
  {
   "cell_type": "code",
   "execution_count": 1,
   "source": [
    "def fibonacci(N):\n",
    "    \"\"\"This function generates a Fibonacci series in which all numbers are smaller or equal to a given number\n",
    "\n",
    "    Args:\n",
    "        N (int): the upper bound limit of all the numbers in the Fibonacci series\n",
    "\n",
    "    Returns:\n",
    "        (list): a list of Fibonacci numbers\n",
    "    \"\"\"\n",
    "    # The first numbers of the series are: 0, 1, 1\n",
    "    if N == 0:\n",
    "        return [0]\n",
    "    elif N == 1:\n",
    "        return [0, 1, 1]\n",
    "    else:\n",
    "        # initialise the series with the first numbers\n",
    "        # we need to do this in order to calculate the next numbers\n",
    "        fibo = [0, 1, 1]\n",
    "        # the next number x[n] = x[n-1] + x[n-2]\n",
    "        next_number = fibo[-1] + fibo[-2]\n",
    "        \n",
    "        while next_number <= N:\n",
    "            # keep genereting and adding next_numbers until a limit is reached\n",
    "            fibo.append(next_number)\n",
    "            next_number = fibo[-1] + fibo[-2]\n",
    "        # return this Fibonacci series\n",
    "        return fibo"
   ],
   "outputs": [],
   "metadata": {}
  },
  {
   "cell_type": "code",
   "execution_count": 2,
   "source": [
    "fibonacci(100)"
   ],
   "outputs": [
    {
     "output_type": "execute_result",
     "data": {
      "text/plain": [
       "[0, 1, 1, 2, 3, 5, 8, 13, 21, 34, 55, 89]"
      ]
     },
     "metadata": {},
     "execution_count": 2
    }
   ],
   "metadata": {}
  },
  {
   "cell_type": "markdown",
   "source": [
    "# Character counts\n",
    "\n",
    "Write a function that count the frequencies of each character in a given string. The function should return a dictionary, in which each key is a character and each value is the corresponding frequency. All characters are treated as their lowercases, meaning 'E' is the same as 'e'.   \n",
    "For example: Calling the function for 'Hello' will return {'h': 1, 'e': 1, 'l': 2, 'o': 1}."
   ],
   "metadata": {}
  },
  {
   "cell_type": "code",
   "execution_count": 18,
   "source": [
    "def count_character(string):\n",
    "    \"\"\"This function summaries the frequencies of existence of different characters in a string.\n",
    "\n",
    "    Args:\n",
    "        string (str): any string\n",
    "\n",
    "    Returns:\n",
    "        (dict): a dictionary with characters as keys and frequencies as values\n",
    "    \"\"\"\n",
    "    print('Receive string: \"{}\"'.format(string))\n",
    "    # remove all kinds of while spaces\n",
    "    # split() divides a string into different groups of characters that are separated by while spaces, this function returns a list of groups\n",
    "    # join() combines all strings in a list to form a combined string\n",
    "    non_space_string = \"\".join(string.split())\n",
    "    print('String after removing white spaces: \"{}\"'.format(non_space_string))\n",
    "    # make a lowercase string\n",
    "    lower_string = non_space_string.lower()\n",
    "    print('Lowercase string: \"{}\"'.format(lower_string))\n",
    "    # define and initialise an empty dictionary for the final dictionary\n",
    "    info = {}\n",
    "    # now loop through all characters\n",
    "    for ch in lower_string:\n",
    "        # check if is character is already in the dictionary (more precisely check if it is ready a key in the dictionary)\n",
    "        if ch in info:\n",
    "            # if yes, we increase the corresponding frequency by 1\n",
    "            info[ch] = info[ch] + 1\n",
    "        else:\n",
    "            # if no, this character has never seen before, we simply add it to the dictionary and assing the corresponding frequency to 1\n",
    "            info[ch] = 1\n",
    "    # return the summary\n",
    "    return info"
   ],
   "outputs": [],
   "metadata": {}
  },
  {
   "cell_type": "code",
   "execution_count": 19,
   "source": [
    "count_character('Python is  funny!')"
   ],
   "outputs": [
    {
     "output_type": "stream",
     "name": "stdout",
     "text": [
      "Receive string: \"Python is  funny!\"\n",
      "String after removing white spaces: \"Pythonisfunny!\"\n",
      "Lowercase string: \"pythonisfunny!\"\n"
     ]
    },
    {
     "output_type": "execute_result",
     "data": {
      "text/plain": [
       "{'p': 1,\n",
       " 'y': 2,\n",
       " 't': 1,\n",
       " 'h': 1,\n",
       " 'o': 1,\n",
       " 'n': 3,\n",
       " 'i': 1,\n",
       " 's': 1,\n",
       " 'f': 1,\n",
       " 'u': 1,\n",
       " '!': 1}"
      ]
     },
     "metadata": {},
     "execution_count": 19
    }
   ],
   "metadata": {}
  },
  {
   "cell_type": "markdown",
   "source": [
    "# Dictionary\n",
    "\n",
    "Write a function to combine two dictionaries. For each common key, if the values from the two dictionaries are different, put them in a list and assign this list as the value in the combined dictionary.\n",
    "\n",
    "Extend the function to except more than two dictionaries as arguments."
   ],
   "metadata": {}
  },
  {
   "cell_type": "code",
   "execution_count": null,
   "source": [
    "from copy import deepcopy"
   ],
   "outputs": [],
   "metadata": {}
  },
  {
   "cell_type": "code",
   "execution_count": 62,
   "source": [
    "def combine_dictionary(dict_1, dict_2):\n",
    "    \"\"\"This functions combine two dictionaries. If there is a confict, the corresponding values are concatenated in a list\n",
    "\n",
    "    Args:\n",
    "        dict_1, dict_2 (dict): two dictionaries\n",
    "\n",
    "    Returns:\n",
    "        (dict): a combined dictionary\n",
    "    \"\"\"\n",
    "    # combining these two dictionaries is similar to adding the second dictionary to the first dictionary\n",
    "    # we initialise the combined dictionary with the first dictionary\n",
    "    combined_dict = deepcopy(dict_1)\n",
    "    # now we loop through key,value in the second dictionary and add them to the combined dictionary\n",
    "    for k2,v2 in dict_2.items():\n",
    "        # check if the key is in the combined dictionary\n",
    "        if k2 in combined_dict:\n",
    "            # if yes, we need to check if there is a conflict in the values\n",
    "            # now, take the value in the first dictionary, it is now also in the combined dictionary\n",
    "            v1 = combined_dict[k2] # or v1 = dict_1[k2]\n",
    "            if v1 == v2:\n",
    "                # to conflict, we do not have to do anything\n",
    "                pass\n",
    "            else:\n",
    "                # there is a conflict, let's save all the values\n",
    "                combined_dict[k2] = [v1, v2]\n",
    "        else:\n",
    "            # new key, just add it\n",
    "            combined_dict[k2] = v2\n",
    "    return combined_dict"
   ],
   "outputs": [],
   "metadata": {}
  },
  {
   "cell_type": "code",
   "execution_count": 64,
   "source": [
    "a = {\n",
    "    'name': 'John',\n",
    "    'address': 'UK'\n",
    "}\n",
    "b = {\n",
    "    'age': 18,\n",
    "    'address': 'NL'\n",
    "}\n",
    "combine_dictionary(a,b)"
   ],
   "outputs": [
    {
     "output_type": "execute_result",
     "data": {
      "text/plain": [
       "{'name': 'John', 'address': ['UK', 'NL'], 'age': 18}"
      ]
     },
     "metadata": {},
     "execution_count": 64
    }
   ],
   "metadata": {}
  },
  {
   "cell_type": "markdown",
   "source": [
    "# Extrema\n",
    "\n",
    "Given a list of numbers representing a series, count how many time the values change their trends, i.e. from increasing to descreasing and vi versa.  \n",
    "Examples of these changes are:\n",
    "- [0, 2, 1]\n",
    "- [0, -2, -2, 3]"
   ],
   "metadata": {}
  },
  {
   "cell_type": "code",
   "execution_count": 36,
   "source": [
    "def count_extrema(x):\n",
    "    \"\"\"[summary]\n",
    "\n",
    "    Args:\n",
    "        x ([type]): [description]\n",
    "\n",
    "    Returns:\n",
    "        [type]: [description]\n",
    "    \"\"\"\n",
    "    if len(x) == 0:\n",
    "        return 0\n",
    "    # create a new list from the given list, where we ignore continuously duplicating values \n",
    "    # E.g. [1,2,2,3] will generate [1,2,3]\n",
    "    # init the list with the first value in x\n",
    "    y = [x[0]]\n",
    "    # loop from the second value of x\n",
    "    for v in x[1:]:\n",
    "        # check if this value is the same as the last value of y\n",
    "        if v == y[-1]:\n",
    "            # if yes, we do not want to add it\n",
    "            pass\n",
    "        else:\n",
    "            # if no, add to y\n",
    "            y.append(v)\n",
    "    # now we have y as the simplifed list of x. We can identify extrema in y by finding all places (or indexes) where there is a change in the trend of values.\n",
    "    # track the number of extrema\n",
    "    num_extrema = 0\n",
    "    # now, go through each value in y and check if it is an extrema\n",
    "    # note that we do not check the first and the last items because there is not enough information to say if they are extrema.\n",
    "    for i in range(1,len(y)-1):\n",
    "        pre = y[i-1]\n",
    "        cur = y[i]\n",
    "        post = y[i+1]\n",
    "        # check if maxima\n",
    "        if cur > pre and cur > post:\n",
    "            # the current value is bigger than those just before and after, i..e we have a maximum\n",
    "            num_extrema += 1\n",
    "        if cur < pre and cur < post:\n",
    "            # this is a minimum\n",
    "            num_extrema += 1\n",
    "    return num_extrema"
   ],
   "outputs": [],
   "metadata": {}
  },
  {
   "cell_type": "markdown",
   "source": [
    "Note that the above code is far from optimal:\n",
    "- It first needs to remove duplicates, which cost a loop over the whole list\n",
    "- When assessing each value in y, it compare the value with the pre and the post ones. Hence, two consecutive numbers are compared twice (when the loop goes over them two).\n",
    "\n",
    "You are encourage to improve the algorithm with regards to computational time."
   ],
   "metadata": {}
  },
  {
   "cell_type": "code",
   "execution_count": 40,
   "source": [
    "count_extrema([2,1,2,2,3,4,2,2,4,2,4,4,5])"
   ],
   "outputs": [
    {
     "output_type": "execute_result",
     "data": {
      "text/plain": [
       "5"
      ]
     },
     "metadata": {},
     "execution_count": 40
    }
   ],
   "metadata": {}
  },
  {
   "cell_type": "markdown",
   "source": [
    "# The stock span problem\n",
    "\n",
    ">[The stock span problem](https://www.geeksforgeeks.org/the-stock-span-problem/) is a financial problem where we have a series of n daily price quotes for a stock and we need to calculate span of stock’s price for all n days. \n",
    "The span Si of the stock’s price on a given day i is defined as the maximum number of consecutive days just before the given day, for which the price of the stock on the current day is less than or equal to its price on the given day. \n",
    "For example, if an array of 7 days prices is given as {100, 80, 60, 70, 60, 75, 85}, then the span values for corresponding 7 days are {1, 1, 1, 2, 1, 4, 6} "
   ],
   "metadata": {}
  },
  {
   "cell_type": "code",
   "execution_count": 58,
   "source": [
    "def calc_stock_span(stocks):\n",
    "    \"\"\"This function solves the stock span problem\n",
    "\n",
    "    Args:\n",
    "        stocks (list): a list of stock values\n",
    "\n",
    "    Returns:\n",
    "        (list): a list of spans for each of the stock items\n",
    "    \"\"\"\n",
    "    # save the spanning values to a list\n",
    "    s = []\n",
    "    # loop through each item of the given stock values\n",
    "    for i, value in enumerate(stocks):\n",
    "        # i the order/index/sequence number of the current value in the list\n",
    "        # value is the value of the i_th item in the list\n",
    "        # we need to look back to previous values to see how many of them are less than or equal to the current value\n",
    "        # do not forget, we stop when encountering a bigger one\n",
    "        # let first initialise the count with 0\n",
    "        s.append(0)\n",
    "        # we need a decreasing range: from i down to 0\n",
    "        for j in range(i,-1,-1):\n",
    "            if stocks[j] <= value:\n",
    "                s[i] += 1\n",
    "            else:\n",
    "                # encounter a bigger value, we stop the loop\n",
    "                break\n",
    "    return s"
   ],
   "outputs": [],
   "metadata": {}
  },
  {
   "cell_type": "code",
   "execution_count": 59,
   "source": [
    "calc_stock_span([100, 80, 60, 70, 60, 75, 85])"
   ],
   "outputs": [
    {
     "output_type": "execute_result",
     "data": {
      "text/plain": [
       "[1, 1, 1, 2, 1, 4, 6]"
      ]
     },
     "metadata": {},
     "execution_count": 59
    }
   ],
   "metadata": {}
  },
  {
   "cell_type": "markdown",
   "source": [
    "Note that the given solution is not an optimal one in terms of computational time. It is possible to come up with the span of the current stock given the spans of previous stock values. Feel free to improve the code to reduce the computation time."
   ],
   "metadata": {}
  },
  {
   "cell_type": "markdown",
   "source": [
    "# Pascal's triangle"
   ],
   "metadata": {}
  },
  {
   "cell_type": "markdown",
   "source": [
    "Write a function to print the first `N` line of [Pascal's triangle](https://en.wikipedia.org/wiki/Pascal's_triangle).  \n",
    "You can either print values or format the outputs to make it look pretty (like a triangle)"
   ],
   "metadata": {}
  },
  {
   "cell_type": "code",
   "execution_count": 45,
   "source": [
    "def print_Pascal_triangle(N):\n",
    "    \"\"\"This function generates the first N lines of the Pascal's triangle\n",
    "\n",
    "    Args:\n",
    "        N (int): the number of lines\n",
    "\n",
    "    Returns:\n",
    "        (dict): a dictionary, line number is key and list of the numbers in this line is the corresponding value. Note that, this is a selection of choice, other data types like list are perfectly fine.\n",
    "    \"\"\"\n",
    "    # we save line number is a dictionary\n",
    "    lines = {}\n",
    "    # loop through all the lines\n",
    "    for i in range(1, N+1):\n",
    "        # i is the line number\n",
    "        if i == 1:\n",
    "            lines[i] = [1]\n",
    "            print(lines[i])\n",
    "            # that's it for the first line, we can quickly move to the next line with this keyword\n",
    "            continue\n",
    "        # when the loop reaches this point, we have i >= 2\n",
    "        # any line (except the first line) starts and ends with number 1\n",
    "\n",
    "        # begin a line with number 1\n",
    "        lines[i] = [1]\n",
    "        # take the previous line\n",
    "        pre_line = lines[i-1]\n",
    "        # the values in the middle of the i_th line are constructed by repeatedly sum two consecutive numbers from the (i-1)_th line\n",
    "        # pre_line[:-1]: the first to the second last items\n",
    "        # pre_line[1:]: the second to the last items\n",
    "        # then add values from these two list (element-by-element)\n",
    "        for m,n in zip(pre_line[:-1], pre_line[1:]):\n",
    "            lines[i].append(m + n)\n",
    "        # close a line with the trailing 1\n",
    "        lines[i].append(1)\n",
    "        print(lines[i])\n",
    "    return lines"
   ],
   "outputs": [],
   "metadata": {}
  },
  {
   "cell_type": "code",
   "execution_count": 49,
   "source": [
    "lines = print_Pascal_triangle(10)"
   ],
   "outputs": [
    {
     "output_type": "stream",
     "name": "stdout",
     "text": [
      "[1]\n",
      "[1, 1]\n",
      "[1, 2, 1]\n",
      "[1, 3, 3, 1]\n",
      "[1, 4, 6, 4, 1]\n",
      "[1, 5, 10, 10, 5, 1]\n",
      "[1, 6, 15, 20, 15, 6, 1]\n",
      "[1, 7, 21, 35, 35, 21, 7, 1]\n",
      "[1, 8, 28, 56, 70, 56, 28, 8, 1]\n",
      "[1, 9, 36, 84, 126, 126, 84, 36, 9, 1]\n"
     ]
    }
   ],
   "metadata": {}
  },
  {
   "cell_type": "markdown",
   "source": [
    "# Approximate $\\pi$"
   ],
   "metadata": {}
  },
  {
   "cell_type": "code",
   "execution_count": null,
   "source": [
    "from random import random"
   ],
   "outputs": [],
   "metadata": {}
  },
  {
   "cell_type": "markdown",
   "source": [
    "One method to approximate the value of $\\pi$ is through simulation. Given the function `random` generates a number in the range $[0,1]$ randomly, write a function to approxmiate $\\pi$.  \n",
    "\n",
    "*Hints:*\n",
    "- $\\pi$ is the area of a cirle with radius of 1.\n",
    "- For any random point in the unit square (positions top-right of the origin), the change of this point belonging to the quarter unit circle is $\\pi/4$"
   ],
   "metadata": {}
  },
  {
   "cell_type": "code",
   "execution_count": 24,
   "source": [
    "from random import random"
   ],
   "outputs": [],
   "metadata": {}
  },
  {
   "cell_type": "code",
   "execution_count": 27,
   "source": [
    "def approx_pi(N):\n",
    "    \"\"\"This function approximates the value of pi using simulation. It samples point in a unit square and measure the chance of a point belonging to a unit-radius circle. To the limit, the chance is pi/4\n",
    "\n",
    "    Args:\n",
    "        N (int): number of points to sample\n",
    "\n",
    "    Returns:\n",
    "        (float): approximation of pi\n",
    "    \"\"\"\n",
    "    # a variable to keep track of the count of points inside the circle\n",
    "    circle_point = 0\n",
    "    for _ in range(N):\n",
    "        # let generate the coordinates (x,y) of a point automatically\n",
    "        x = random()\n",
    "        y = random()\n",
    "        # squared distance to the origin (0,0)\n",
    "        # d^2 = x^2 + x^2\n",
    "        d2 = x**2 + y**2\n",
    "        # compare it with the radius (more precisely r^2) of the cirle\n",
    "        # since 1^2 is 1, we can just use the square of distance\n",
    "        if d2 <= 1:\n",
    "            # it is inside/on the circle\n",
    "            circle_point += 1\n",
    "    # the chance is circle_point / N. To the limit, this is pi/4. Hence, pi can be approximated by 4 x cirle_point / N\n",
    "    return (circle_point / N) * 4"
   ],
   "outputs": [],
   "metadata": {}
  },
  {
   "cell_type": "code",
   "execution_count": 29,
   "source": [
    "# run the function with different N to see the approximates\n",
    "approx_pi(100000)"
   ],
   "outputs": [
    {
     "output_type": "execute_result",
     "data": {
      "text/plain": [
       "3.1388"
      ]
     },
     "metadata": {},
     "execution_count": 29
    }
   ],
   "metadata": {}
  }
 ],
 "metadata": {
  "interpreter": {
   "hash": "aee8b7b246df8f9039afb4144a1f6fd8d2ca17a180786b69acc140d282b71a49"
  },
  "kernelspec": {
   "name": "python3",
   "display_name": "Python 3.7.5 64-bit"
  },
  "language_info": {
   "codemirror_mode": {
    "name": "ipython",
    "version": 3
   },
   "file_extension": ".py",
   "mimetype": "text/x-python",
   "name": "python",
   "nbconvert_exporter": "python",
   "pygments_lexer": "ipython3",
   "version": "3.7.5"
  }
 },
 "nbformat": 4,
 "nbformat_minor": 2
}